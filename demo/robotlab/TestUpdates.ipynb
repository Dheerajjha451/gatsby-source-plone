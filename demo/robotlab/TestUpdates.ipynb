{
 "cells": [
  {
   "cell_type": "code",
   "execution_count": null,
   "metadata": {},
   "outputs": [],
   "source": [
    "*** Settings ***\n",
    "\n",
    "Library         SeleniumLibrary  timeout=10  implicit_wait=0\n",
    "Library         REST\n",
    "\n",
    "Test Setup      Open singleton browser  ${GATSBY_URL}\n",
    "#Test Teardown   Close All Browsers"
   ]
  },
  {
   "cell_type": "code",
   "execution_count": null,
   "metadata": {},
   "outputs": [],
   "source": [
    "*** Variables ***\n",
    "\n",
    "${BROWSER}        firefox\n",
    "${GATSBY_PORT}    8000\n",
    "${GATSBY_URL}     http://localhost:${GATSBY_PORT}\n",
    "${PLONE_PORT}     8080\n",
    "${PLONE_URL}      http://localhost:${PLONE_PORT}/Plone\n",
    "${AUTHORIZATION}  Basic YWRtaW46YWRtaW4="
   ]
  },
  {
   "cell_type": "code",
   "execution_count": null,
   "metadata": {},
   "outputs": [],
   "source": [
    "*** Keywords ***\n",
    "\n",
    "Open singleton browser\n",
    "    [Documentation]\n",
    "    ...  Open a new browser window on the first call\n",
    "    ...  and selects that window on the subsequent calls.\n",
    "    [Arguments]  ${url}=about:blank\n",
    "    ${Browser is open} =  Run keyword and return status\n",
    "    ...  Switch browser  singleton\n",
    "    Run keyword if  ${Browser is open}\n",
    "    ...  Go to  ${url}\n",
    "    ...  ELSE\n",
    "    ...  Open browser  ${url}  alias=singleton  browser=${BROWSER}"
   ]
  },
  {
   "cell_type": "code",
   "execution_count": null,
   "metadata": {},
   "outputs": [],
   "source": [
    "*** Keywords ***\n",
    "\n",
    "Set Plone headers\n",
    "    &{headers}=  Create dictionary\n",
    "    ...  Accept=application/json\n",
    "    ...  Authorization=${AUTHORIZATION}\n",
    "    ...  ContentType=application/json\n",
    "    Set headers  ${headers}"
   ]
  },
  {
   "cell_type": "code",
   "execution_count": null,
   "metadata": {},
   "outputs": [],
   "source": [
    "*** Test Cases ***\n",
    "\n",
    "Scenario: Deep folder structure\n",
    "  Go To  ${GATSBY_URL}\n",
    "  Wait until page contains  Plone plugin for Gatsby\n",
    "  Element should contain  css=.list-group  Docs\n",
    "  Page should contain  Examples\n",
    "  Click link  Examples\n",
    "  Page should contain  Subfolder level two\n",
    "  Click link  Subfolder level two\n",
    "  Page should contain  Level three\n",
    "  Click link  Level three\n",
    "  Page should contain  Level four\n",
    "  Click link  Level four\n",
    "  Page should contain  Level four"
   ]
  },
  {
   "cell_type": "code",
   "execution_count": null,
   "metadata": {},
   "outputs": [],
   "source": [
    "*** Test Cases ***\n",
    "\n",
    "Scenario: Delete leaf content\n",
    "    Set Plone headers\n",
    "    Go to  ${GATSBY_URL}/examples/subfolder-level-two/level-three/\n",
    "    Wait until page contains element  css:a[href$=\"/level-four/\"]\n",
    "    Delete  ${PLONE_URL}/examples/subfolder-level-two/level-three/level-four/\n",
    "    Wait until page does not contain element  css:a[href$=\"/level-four/\"]"
   ]
  },
  {
   "cell_type": "code",
   "execution_count": null,
   "metadata": {},
   "outputs": [],
   "source": [
    "*** Test Cases ***\n",
    "\n",
    "Scenario: Delete content with children\n",
    "    Set Plone headers\n",
    "    Go to  ${GATSBY_URL}\n",
    "    Wait until page contains element  css:a[href$=\"/examples/\"]\n",
    "    Delete  ${PLONE_URL}/examples\n",
    "    Wait until page does not contain element  css:a[href$=\"/examples/\"]"
   ]
  },
  {
   "cell_type": "code",
   "execution_count": null,
   "metadata": {},
   "outputs": [],
   "source": [
    "*** Test Cases ***\n",
    "\n",
    "Scenario: Update page content\n",
    "    Set Plone headers\n",
    "    Go to  ${GATSBY_URL}/news\n",
    "    ${payload}=  Create dictionary  description=Read the news\n",
    "    Wait until page contains  News on gatsby-source-plone development\n",
    "    Page should not contain  Read the news\n",
    "    Patch  ${PLONE_URL}/news  ${payload}\n",
    "    Wait until page contains  Read the news\n",
    "    Page should not contain  News on gatsby-source-plone development"
   ]
  },
  {
   "cell_type": "code",
   "execution_count": null,
   "metadata": {},
   "outputs": [],
   "source": [
    "*** Test Cases ***\n",
    "\n",
    "Scenario: Update content visible in navigation\n",
    "    Set Plone headers\n",
    "    Go to  ${GATSBY_URL}/reference\n",
    "    Wait until page contains element  css:a[href$=\"/reference/\"]\n",
    "    Element should not contain\n",
    "    ...  css:a[href$=\"/reference/\"]\n",
    "    ...  The Docs\n",
    "    Page should not contain  The Docs\n",
    "    ${payload}=  Create dictionary  title=The Docs\n",
    "    Patch  ${PLONE_URL}/reference  ${payload}\n",
    "    Wait until element contains\n",
    "    ...  css:a[href$=\"/reference/\"]\n",
    "    ...  The Docs\n",
    "    Go to  ${GATSBY_URL}\n",
    "    Wait until page contains  Plone plugin for Gatsby\n",
    "    Wait until element contains\n",
    "    ...  css:a[href$=\"/reference/\"]\n",
    "    ...  The Docs"
   ]
  },
  {
   "cell_type": "code",
   "execution_count": null,
   "metadata": {},
   "outputs": [],
   "source": [
    "*** Test Cases ***\n",
    "\n",
    "Scenario: Update content visible in breadcrumbs\n",
    "    Set Plone headers\n",
    "    Go to  ${GATSBY_URL}/tutorial/1_getting_started\n",
    "    Wait until page contains element\n",
    "    ...  css:.breadcrumb a[href$=\"/tutorial/\"]\n",
    "    Element should not contain\n",
    "    ...  css:.breadcrumb a[href$=\"/tutorial/\"]\n",
    "    ...  The Tutorial\n",
    "    Page should not contain  The Tutorial\n",
    "    ${payload}=  Create dictionary  title=The Tutorial\n",
    "    Patch  ${PLONE_URL}/tutorial  ${payload}\n",
    "    Wait until element contains\n",
    "    ...  css:.breadcrumb a[href$=\"/tutorial/\"]\n",
    "    ...  The Tutorial"
   ]
  }
 ],
 "metadata": {
  "kernelspec": {
   "display_name": "Robot Framework",
   "language": "robotframework",
   "name": "robotkernel"
  },
  "language_info": {
   "codemirror_mode": "robotframework",
   "file_extension": ".robot",
   "mimetype": "text/plain",
   "name": "robotframework",
   "pygments_lexer": "robotframework"
  }
 },
 "nbformat": 4,
 "nbformat_minor": 4
}
