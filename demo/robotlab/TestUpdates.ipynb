{
 "cells": [
  {
   "cell_type": "code",
   "execution_count": null,
   "metadata": {},
   "outputs": [],
   "source": [
    "*** Settings ***\n",
    "\n",
    "Library         SeleniumLibrary  timeout=10  implicit_wait=0\n",
    "Library         REST\n",
    "\n",
    "Test Setup      Open singleton browser  ${GATSBY_URL}\n",
    "Test Teardown   Close All Browsers"
   ]
  },
  {
   "cell_type": "code",
   "execution_count": null,
   "metadata": {},
   "outputs": [],
   "source": [
    "*** Variables ***\n",
    "\n",
    "${BROWSER}        firefox\n",
    "${GATSBY_PORT}    8000\n",
    "${GATSBY_URL}     http://localhost:${GATSBY_PORT}\n",
    "${PLONE_PORT}     8080\n",
    "${PLONE_URL}      http://localhost:${PLONE_PORT}/Plone\n",
    "${AUTHORIZATION}  Basic YWRtaW46YWRtaW4="
   ]
  },
  {
   "cell_type": "code",
   "execution_count": null,
   "metadata": {},
   "outputs": [],
   "source": [
    "*** Keywords ***\n",
    "\n",
    "Open singleton browser\n",
    "    [Documentation]\n",
    "    ...  Open a new browser window on the first call\n",
    "    ...  and selects that window on the subsequent calls.\n",
    "    [Arguments]  ${url}=about:blank\n",
    "    ${Browser is open} =  Run keyword and return status\n",
    "    ...  Switch browser  singleton\n",
    "    Run keyword if  ${Browser is open}\n",
    "    ...  Go to  ${url}\n",
    "    ...  ELSE\n",
    "    ...  Open browser  ${url}  alias=singleton  browser=${BROWSER}"
   ]
  },
  {
   "cell_type": "code",
   "execution_count": null,
   "metadata": {},
   "outputs": [],
   "source": [
    "*** Keywords ***\n",
    "\n",
    "Set Plone headers\n",
    "    &{headers}=  Create dictionary\n",
    "    ...  ContentType=application/json\n",
    "    ...  Authorization=${AUTHORIZATION}\n",
    "    Set headers  ${headers}"
   ]
  },
  {
   "cell_type": "code",
   "execution_count": null,
   "metadata": {},
   "outputs": [],
   "source": [
    "*** Test Cases ***\n",
    "\n",
    "Scenario: Deep folder structure\n",
    "  Go To  ${GATSBY_URL}\n",
    "  Wait until page contains  Plone plugin for Gatsby\n",
    "  Element should contain  css=.list-group  Docs\n",
    "  Page should contain  Examples\n",
    "  Click link  Examples\n",
    "  Page should contain  Subfolder level two\n",
    "  Click link  Subfolder level two\n",
    "  Page should contain  Level three\n",
    "  Click link  Level three\n",
    "  Page should contain  Level four\n",
    "  Click link  Level four\n",
    "  Page should contain  Level four"
   ]
  },
  {
   "cell_type": "code",
   "execution_count": null,
   "metadata": {},
   "outputs": [],
   "source": [
    "*** Test Cases ***\n",
    "\n",
    "Scenario: Delete single page\n",
    "    Set Plone headers\n",
    "    Go to  ${GATSBY_URL}/examples/subfolder-level-two/level-three/\n",
    "    Wait until page contains element  css:a[href$=\"/level-four/\"]\n",
    "    Delete  ${PLONE_URL}/examples/subfolder-level-two/level-three/level-four/\n",
    "    Wait until page does not contain element  css:a[href$=\"/level-four/\"]"
   ]
  }
 ],
 "metadata": {
  "kernelspec": {
   "display_name": "Robot Framework",
   "language": "robotframework",
   "name": "robotkernel"
  },
  "language_info": {
   "codemirror_mode": "robotframework",
   "file_extension": ".robot",
   "mimetype": "text/plain",
   "name": "robotframework",
   "pygments_lexer": "robotframework"
  }
 },
 "nbformat": 4,
 "nbformat_minor": 4
}
